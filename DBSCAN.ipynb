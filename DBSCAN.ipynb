{
  "nbformat": 4,
  "nbformat_minor": 0,
  "metadata": {
    "colab": {
      "provenance": []
    },
    "kernelspec": {
      "name": "python3",
      "display_name": "Python 3"
    },
    "language_info": {
      "name": "python"
    }
  },
  "cells": [
    {
      "cell_type": "code",
      "execution_count": null,
      "metadata": {
        "id": "CHleF14P80Kx"
      },
      "outputs": [],
      "source": [
        "import numpy as np\n",
        "import matplotlib.pyplot as plt\n",
        "from sklearn.cluster import DBSCAN"
      ]
    },
    {
      "cell_type": "code",
      "source": [
        "points=np.array([\n",
        "                 [3,7],\n",
        "                 [4,6],\n",
        "                 [5,5],\n",
        "                 [6,4],\n",
        "                 [7,3],\n",
        "                 [6,2],\n",
        "                 [7,2],\n",
        "                 [8,4],\n",
        "                 [3,3],\n",
        "                 [2,6],\n",
        "                 [3,5],\n",
        "                 [2,4]])"
      ],
      "metadata": {
        "id": "MyfLpN729E0p"
      },
      "execution_count": null,
      "outputs": []
    },
    {
      "cell_type": "code",
      "source": [
        "dbscan=DBSCAN(eps=1.9,min_samples=4)\n",
        "labels=dbscan.fit_predict(points)"
      ],
      "metadata": {
        "id": "LzhQjkqT9xwq"
      },
      "execution_count": null,
      "outputs": []
    },
    {
      "cell_type": "code",
      "source": [
        "plt.figure(figsize=(8,6))\n",
        "unique_labels=set(labels)"
      ],
      "metadata": {
        "colab": {
          "base_uri": "https://localhost:8080/",
          "height": 34
        },
        "id": "hcx_pP77-WKZ",
        "outputId": "1458f124-66e1-4190-80d6-c8002f2c776f"
      },
      "execution_count": null,
      "outputs": [
        {
          "output_type": "display_data",
          "data": {
            "text/plain": [
              "<Figure size 800x600 with 0 Axes>"
            ]
          },
          "metadata": {}
        }
      ]
    },
    {
      "cell_type": "code",
      "source": [
        "for label in unique_labels:\n",
        "  cluster_points=points[labels==label]\n",
        "\n",
        "  if cluster_points.size==0:\n",
        "    continue;\n",
        "  if label==-1:\n",
        "      plt.scatter(cluster_points[:, 0],cluster_points[:, 1],c='k',marker='x',label='Noise')\n",
        "  else:\n",
        "       plt.scatter(cluster_points[:, 0],cluster_points[:, 1],label=f'Cluster {label}')\n",
        "plt.legend()\n",
        "plt.title('DBSACN Clustering Result')\n",
        "plt.xlabel('X')\n",
        "plt.ylabel('Y')\n",
        "plt.grid(True)\n",
        "plt.show()"
      ],
      "metadata": {
        "colab": {
          "base_uri": "https://localhost:8080/",
          "height": 472
        },
        "id": "KgWBJ4xT-iGm",
        "outputId": "515731a7-d702-4e96-945a-e9d472776ad9"
      },
      "execution_count": null,
      "outputs": [
        {
          "output_type": "display_data",
          "data": {
            "text/plain": [
              "<Figure size 640x480 with 1 Axes>"
            ],
            "image/png": "[encoded data removed]"
          },
          "metadata": {}
        }
      ]
    },
    {
      "cell_type": "code",
      "source": [
        "print(\"Cluster labels for each point: \")\n",
        "for i,label in enumerate(labels,start=1):\n",
        "  print(f\"p{i}: Cluster{label if label!=-1  else 'Noise'}\")"
      ],
      "metadata": {
        "colab": {
          "base_uri": "https://localhost:8080/"
        },
        "id": "QMl9mvE-AEuv",
        "outputId": "bd3a40e4-7921-4856-e4d6-572da5dacbde"
      },
      "execution_count": null,
      "outputs": [
        {
          "output_type": "stream",
          "name": "stdout",
          "text": [
            "Cluster labels for each point: \n",
            "p1: Cluster0\n",
            "p2: Cluster0\n",
            "p3: Cluster0\n",
            "p4: Cluster1\n",
            "p5: Cluster1\n",
            "p6: Cluster1\n",
            "p7: Cluster1\n",
            "p8: Cluster1\n",
            "p9: ClusterNoise\n",
            "p10: Cluster0\n",
            "p11: Cluster0\n",
            "p12: Cluster0\n"
          ]
        }
      ]
    },
    {
      "cell_type": "code",
      "source": [
        "n_clusters=len(set(labels))-(1 if -1 in labels else 0)\n",
        "print(\"\\n Number of clusters formed (excluding noise):\",n_clusters)\n"
      ],
      "metadata": {
        "colab": {
          "base_uri": "https://localhost:8080/"
        },
        "id": "Y2KQGPHPBFYR",
        "outputId": "679e7eb8-6226-419d-cbed-ed008917f06b"
      },
      "execution_count": null,
      "outputs": [
        {
          "output_type": "stream",
          "name": "stdout",
          "text": [
            "\n",
            " Number of clusters formed (excluding noise): 2\n"
          ]
        }
      ]
    },
    {
      "cell_type": "code",
      "source": [],
      "metadata": {
        "id": "Ra8BOMSGCm8T"
      },
      "execution_count": null,
      "outputs": []
    }
  ]
}